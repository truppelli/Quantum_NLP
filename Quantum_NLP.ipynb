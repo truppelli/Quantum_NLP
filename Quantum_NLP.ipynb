{
 "cells": [
  {
   "cell_type": "markdown",
   "id": "f598b108-a6f8-43c0-8236-c75dc001bc8a",
   "metadata": {
    "id": "gXXhctqjgXO7"
   },
   "source": [
    "##### Copyright 2023 Phillip Truppelli"
   ]
  },
  {
   "cell_type": "code",
   "execution_count": 1,
   "id": "e2c37c63-0476-4579-835e-a07002856801",
   "metadata": {
    "cellView": "form",
    "id": "z2RJVa8qgXou"
   },
   "outputs": [],
   "source": [
    "# The purpose of this script is to showcase Grover's search algorithm applied to quantum natural language processing.\n",
    "# This will provide a baseline framework for query answering on a quantum computer.\n",
    "# You may obtain the source code and documentation here:\n",
    "# \n",
    "# https://github.com/truppelli\n",
    "# \n",
    "# This code is covered under the Apache License, Version 2.0 (the \"License\");\n",
    "# you may not use this file except in compliance with the License.\n",
    "# You may obtain a copy of the License at\n",
    "#\n",
    "# https://www.apache.org/licenses/LICENSE-2.0\n",
    "#\n",
    "# Unless required by applicable law or agreed to in writing, software\n",
    "# distributed under the License is distributed on an \"AS IS\" BASIS,\n",
    "# WITHOUT WARRANTIES OR CONDITIONS OF ANY KIND, either express or implied.\n",
    "# See the License for the specific language governing permissions and\n",
    "# limitations under the License."
   ]
  },
  {
   "cell_type": "code",
   "execution_count": 98,
   "id": "68c36546-5b3e-4a8e-b25c-07526e3153e5",
   "metadata": {},
   "outputs": [
    {
     "name": "stdout",
     "output_type": "stream",
     "text": [
      "Vocabulary:\n",
      "Word('quantum', grammar.pregroup.Ty(rigid.Ob('n'), rigid.Ob('n', z=-1)))\n",
      "Word('computers', grammar.pregroup.Ty(rigid.Ob('n')))\n",
      "Word('and', grammar.pregroup.Ty(rigid.Ob('n'), rigid.Ob('n', z=1), rigid.Ob('n', z=-1)))\n",
      "Word('algorithms', grammar.pregroup.Ty(rigid.Ob('n')))\n"
     ]
    },
    {
     "ename": "NameError",
     "evalue": "name 'obj1' is not defined",
     "output_type": "error",
     "traceback": [
      "\u001b[1;31m---------------------------------------------------------------------------\u001b[0m",
      "\u001b[1;31mNameError\u001b[0m                                 Traceback (most recent call last)",
      "Cell \u001b[1;32mIn[98], line 14\u001b[0m\n\u001b[0;32m     10\u001b[0m algorithms \u001b[38;5;241m=\u001b[39m Word(\u001b[38;5;124m\"\u001b[39m\u001b[38;5;124malgorithms\u001b[39m\u001b[38;5;124m\"\u001b[39m, n)\n\u001b[0;32m     12\u001b[0m \u001b[38;5;28mprint\u001b[39m(\u001b[38;5;124m\"\u001b[39m\u001b[38;5;124mVocabulary:\u001b[39m\u001b[38;5;130;01m\\n\u001b[39;00m\u001b[38;5;132;01m{}\u001b[39;00m\u001b[38;5;124m\"\u001b[39m\u001b[38;5;241m.\u001b[39mformat(\u001b[38;5;124m'\u001b[39m\u001b[38;5;130;01m\\n\u001b[39;00m\u001b[38;5;124m'\u001b[39m\u001b[38;5;241m.\u001b[39mjoin(\u001b[38;5;28mmap\u001b[39m(\u001b[38;5;28mrepr\u001b[39m, [quantum, computers, _and, algorithms]))))\n\u001b[1;32m---> 14\u001b[0m parsing \u001b[38;5;241m=\u001b[39m {\u001b[38;5;124m\"\u001b[39m\u001b[38;5;132;01m{}\u001b[39;00m\u001b[38;5;124m \u001b[39m\u001b[38;5;132;01m{}\u001b[39;00m\u001b[38;5;124m \u001b[39m\u001b[38;5;132;01m{}\u001b[39;00m\u001b[38;5;124m.\u001b[39m\u001b[38;5;124m\"\u001b[39m\u001b[38;5;241m.\u001b[39mformat(adj, obj1, obj2): adj \u001b[38;5;241m@\u001b[39m obj1 \u001b[38;5;241m@\u001b[39m obj2 \u001b[38;5;241m>>\u001b[39m grammar\n\u001b[0;32m     15\u001b[0m             \u001b[38;5;28;01mfor\u001b[39;00m adj \u001b[38;5;129;01min\u001b[39;00m [quantum] \u001b[38;5;28;01mfor\u001b[39;00m adj2 \u001b[38;5;129;01min\u001b[39;00m [quantum] \u001b[38;5;28;01mfor\u001b[39;00m obj \u001b[38;5;129;01min\u001b[39;00m [algorithms]}\n\u001b[0;32m     16\u001b[0m diagram \u001b[38;5;241m=\u001b[39m parsing[\u001b[38;5;124m'\u001b[39m\u001b[38;5;124mPhillip designs efficient quantum algorithms.\u001b[39m\u001b[38;5;124m'\u001b[39m]\n\u001b[0;32m     17\u001b[0m sentences \u001b[38;5;241m=\u001b[39m \u001b[38;5;28mlist\u001b[39m(parsing\u001b[38;5;241m.\u001b[39mkeys())\n",
      "Cell \u001b[1;32mIn[98], line 14\u001b[0m, in \u001b[0;36m<dictcomp>\u001b[1;34m(.0)\u001b[0m\n\u001b[0;32m     10\u001b[0m algorithms \u001b[38;5;241m=\u001b[39m Word(\u001b[38;5;124m\"\u001b[39m\u001b[38;5;124malgorithms\u001b[39m\u001b[38;5;124m\"\u001b[39m, n)\n\u001b[0;32m     12\u001b[0m \u001b[38;5;28mprint\u001b[39m(\u001b[38;5;124m\"\u001b[39m\u001b[38;5;124mVocabulary:\u001b[39m\u001b[38;5;130;01m\\n\u001b[39;00m\u001b[38;5;132;01m{}\u001b[39;00m\u001b[38;5;124m\"\u001b[39m\u001b[38;5;241m.\u001b[39mformat(\u001b[38;5;124m'\u001b[39m\u001b[38;5;130;01m\\n\u001b[39;00m\u001b[38;5;124m'\u001b[39m\u001b[38;5;241m.\u001b[39mjoin(\u001b[38;5;28mmap\u001b[39m(\u001b[38;5;28mrepr\u001b[39m, [quantum, computers, _and, algorithms]))))\n\u001b[1;32m---> 14\u001b[0m parsing \u001b[38;5;241m=\u001b[39m {\u001b[38;5;124m\"\u001b[39m\u001b[38;5;132;01m{}\u001b[39;00m\u001b[38;5;124m \u001b[39m\u001b[38;5;132;01m{}\u001b[39;00m\u001b[38;5;124m \u001b[39m\u001b[38;5;132;01m{}\u001b[39;00m\u001b[38;5;124m.\u001b[39m\u001b[38;5;124m\"\u001b[39m\u001b[38;5;241m.\u001b[39mformat(adj, \u001b[43mobj1\u001b[49m, obj2): adj \u001b[38;5;241m@\u001b[39m obj1 \u001b[38;5;241m@\u001b[39m obj2 \u001b[38;5;241m>>\u001b[39m grammar\n\u001b[0;32m     15\u001b[0m             \u001b[38;5;28;01mfor\u001b[39;00m adj \u001b[38;5;129;01min\u001b[39;00m [quantum] \u001b[38;5;28;01mfor\u001b[39;00m adj2 \u001b[38;5;129;01min\u001b[39;00m [quantum] \u001b[38;5;28;01mfor\u001b[39;00m obj \u001b[38;5;129;01min\u001b[39;00m [algorithms]}\n\u001b[0;32m     16\u001b[0m diagram \u001b[38;5;241m=\u001b[39m parsing[\u001b[38;5;124m'\u001b[39m\u001b[38;5;124mPhillip designs efficient quantum algorithms.\u001b[39m\u001b[38;5;124m'\u001b[39m]\n\u001b[0;32m     17\u001b[0m sentences \u001b[38;5;241m=\u001b[39m \u001b[38;5;28mlist\u001b[39m(parsing\u001b[38;5;241m.\u001b[39mkeys())\n",
      "\u001b[1;31mNameError\u001b[0m: name 'obj1' is not defined"
     ]
    }
   ],
   "source": [
    "# DisCoCat (Categorical Compositional Distributional) is a mathematical foundation that can be used to represent grammatical structure.\n",
    "# Starting from the first example seen in the approach section of the corresponding paper\n",
    "from discopy.grammar.pregroup import Ty, Id, Word, Cup, Diagram\n",
    "\n",
    "n, s = Ty('n'), Ty('s')\n",
    "\n",
    "quantum = Word(\"quantum\", n @ n.l)\n",
    "computers = Word(\"computers\", n)\n",
    "_and = Word(\"and\", (n @ n.r) @ n.l)\n",
    "algorithms = Word(\"algorithms\", n)\n",
    "\n",
    "print(\"Vocabulary:\\n{}\".format('\\n'.join(map(repr, [quantum, computers, _and, algorithms]))))\n",
    "\n",
    "parsing = {\"{} {} {}.\".format(adj, obj1, obj2): adj @ obj1 @ obj2 >> grammar\n",
    "            for adj in [quantum] for adj2 in [quantum] for obj in [algorithms]}\n",
    "diagram = parsing['Phillip designs efficient quantum algorithms.']\n",
    "sentences = list(parsing.keys())\n",
    "print(\"Grammatical sentences:\\n{}\".format('\\n'.join(sentences)))\n",
    "\n",
    "from discopy.drawing import draw\n",
    "print(\"Diagram for 'quantum computers and algorithms':\")\n",
    "draw(parsing['quantum computers and algorithms'], draw_type_labels=False, figsize=(17, 4))"
   ]
  },
  {
   "cell_type": "code",
   "execution_count": 1,
   "id": "a497a348",
   "metadata": {},
   "outputs": [
    {
     "name": "stdout",
     "output_type": "stream",
     "text": [
      "Vocabulary:\n",
      "Word('Phillip', grammar.pregroup.Ty(rigid.Ob('n')))\n",
      "Word('designs', grammar.pregroup.Ty(rigid.Ob('n', z=1), rigid.Ob('s'), rigid.Ob('n', z=-1)))\n",
      "Word('efficient', grammar.pregroup.Ty(rigid.Ob('n'), rigid.Ob('n', z=-1)))\n",
      "Word('quantum', grammar.pregroup.Ty(rigid.Ob('n'), rigid.Ob('n', z=-1)))\n",
      "Word('algorithms', grammar.pregroup.Ty(rigid.Ob('n')))\n",
      "\n",
      "\n",
      "Diagram for 'Phillip designs efficient quantum algorithms':\n"
     ]
    },
    {
     "data": {
      "image/png": "[encoded data removed]",
      "text/plain": [
       "<Figure size 1400x400 with 1 Axes>"
      ]
     },
     "metadata": {},
     "output_type": "display_data"
    }
   ],
   "source": [
    "# DisCoCat (Categorical Compositional Distributional) is a mathematical foundation that can be used to represent grammatical structure.\n",
    "# The following example showcases a sentence with a proper noun, a verb, and two adjectives that describe a single object.\n",
    "from discopy.grammar.pregroup import Ty, Id, Word, Cup, Diagram\n",
    "\n",
    "n, s = Ty('n'), Ty('s')\n",
    "\n",
    "Phillip = Word(\"Phillip\", n)\n",
    "designs = Word(\"designs\", n.r @ s @ n.l)\n",
    "efficient = Word(\"efficient\", n @ n.l)\n",
    "quantum = Word(\"quantum\", n @ n.l)\n",
    "algorithms = Word(\"algorithms\", n)\n",
    "\n",
    "print(\"Vocabulary:\\n{}\".format('\\n'.join(map(repr, [Phillip, designs, efficient, quantum, algorithms]))))\n",
    "\n",
    "grammar = Cup(n, n.r) @ Id(s) @ Cup(n.l, n) @ Cup(n.l, n) @ Cup(n.l, n)\n",
    "\n",
    "sentence = Phillip @ designs @ efficient @ quantum @ algorithms >> grammar\n",
    "print(\"\\n\")\n",
    "print(\"Diagram for 'Phillip designs efficient quantum algorithms':\")\n",
    "sentence.draw(figsize=(14, 4))"
   ]
  },
  {
   "cell_type": "code",
   "execution_count": 23,
   "id": "799e8332-5f38-4b3f-ace8-908b27a6e4b9",
   "metadata": {},
   "outputs": [
    {
     "name": "stdout",
     "output_type": "stream",
     "text": [
      "Grammatical sentences:\n",
      "Phillip designs efficient quantum algorithms.\n"
     ]
    }
   ],
   "source": [
    "# Now we want to test out the parsing capabilities of DisCoPy\n",
    "parsing = {\"{} {} {} {} {}.\".format(subj, verb, adj1, adj2, obj): subj @ verb @ adj1 @ adj2 @ obj >> grammar\n",
    "            for subj in [Phillip] for verb in [designs] for adj1 in [efficient] for adj2 in [quantum] for obj in [algorithms]}\n",
    "diagram = parsing['Phillip designs efficient quantum algorithms.']\n",
    "sentences = list(parsing.keys())\n",
    "print(\"Grammatical sentences:\\n{}\".format('\\n'.join(sentences)))"
   ]
  },
  {
   "cell_type": "code",
   "execution_count": 100,
   "id": "c435894b-805b-4c44-9b7c-51f57378dd02",
   "metadata": {},
   "outputs": [
    {
     "name": "stdout",
     "output_type": "stream",
     "text": [
      "Vocabulary:\n",
      "Word('Phillip', grammar.pregroup.Ty(rigid.Ob('n')))\n",
      "Word('who', grammar.pregroup.Ty(rigid.Ob('n', z=1), rigid.Ob('n'), rigid.Ob('s', z=-1), rigid.Ob('n')))\n",
      "Word('designs', grammar.pregroup.Ty(rigid.Ob('n', z=1), rigid.Ob('s'), rigid.Ob('n', z=-1)))\n",
      "Word('algorithms', grammar.pregroup.Ty(rigid.Ob('n')))\n",
      "Word('is efficient', grammar.pregroup.Ty(rigid.Ob('n', z=1), rigid.Ob('s')))\n"
     ]
    }
   ],
   "source": [
    "# Next, we will create another example with a different sentence structure.\n",
    "# If we rearrange the above sentence and make the adjective efficient apply to Phillip instead of algorithms, while reducing the total adjectives to just efficient, we can write:\n",
    "# \"Phillip who designs algorithms is efficient.\"\n",
    "from discopy.grammar.pregroup import Ty, Id, Word, Cup, Diagram\n",
    "\n",
    "n, s = Ty('n'), Ty('s')\n",
    "\n",
    "Phillip = Word(\"Phillip\", n)\n",
    "who = Word(\"who\", n.r @ n @ s.l @ n)\n",
    "designs = Word(\"designs\", n.r @ s @ n.l)\n",
    "algorithms = Word(\"algorithms\", n)\n",
    "is_efficient = Word(\"is efficient\", n.r @ s)\n",
    "\n",
    "print(\"Vocabulary:\\n{}\".format('\\n'.join(map(repr, [Phillip, who, designs, algorithms, is_efficient]))))\n",
    "\n",
    "vocab = [Phillip, who, designs, algorithms, is_efficient]"
   ]
  },
  {
   "cell_type": "code",
   "execution_count": 101,
   "id": "fd984e5f-af7d-4987-abb5-354201be3c17",
   "metadata": {},
   "outputs": [
    {
     "name": "stdout",
     "output_type": "stream",
     "text": [
      "Brute force search for grammatical sentences:\n",
      "Phillip is efficient.\n",
      "algorithms is efficient.\n",
      "Phillip designs Phillip.\n",
      "Phillip designs algorithms.\n",
      "algorithms designs Phillip.\n",
      "algorithms designs algorithms.\n",
      "Phillip who is efficient is efficient.\n",
      "algorithms who is efficient is efficient.\n",
      "Phillip who designs Phillip is efficient.\n",
      "Phillip who designs algorithms is efficient.\n",
      "\n",
      "2.73 seconds to generate 10 sentences.\n"
     ]
    }
   ],
   "source": [
    "from time import time\n",
    "from discopy.grammar.pregroup import brute_force\n",
    "\n",
    "gen, n_sentences = brute_force(*vocab), 10\n",
    "sentences, parsing = list(), dict()\n",
    "\n",
    "print(\"Brute force search for grammatical sentences:\")\n",
    "\n",
    "start = time()\n",
    "for i in range(n_sentences):\n",
    "    diagram = next(gen)\n",
    "    sentence = ' '.join(str(w)\n",
    "        for w in diagram.boxes if isinstance(w, Word)) + '.'\n",
    "    sentences.append(sentence)\n",
    "    parsing.update({sentence: diagram})\n",
    "    print(sentence)\n",
    "\n",
    "print(\"\\n{:.2f} seconds to generate {} sentences.\".format(time() - start, n_sentences))"
   ]
  },
  {
   "cell_type": "code",
   "execution_count": 102,
   "id": "1b6c9daa-c1e9-4bc0-a0bf-d6173614047b",
   "metadata": {},
   "outputs": [
    {
     "name": "stdout",
     "output_type": "stream",
     "text": [
      "Diagram for 'Phillip who designs algorithms is efficient.':\n"
     ]
    },
    {
     "data": {
      "image/png": "[encoded data removed]",
      "text/plain": [
       "<Figure size 1700x400 with 1 Axes>"
      ]
     },
     "metadata": {},
     "output_type": "display_data"
    }
   ],
   "source": [
    "from discopy.drawing import draw\n",
    "print(\"Diagram for 'Phillip who designs algorithms is efficient.':\")\n",
    "draw(parsing['Phillip who designs algorithms is efficient.'], draw_type_labels=False, figsize=(17, 4))"
   ]
  },
  {
   "cell_type": "code",
   "execution_count": 103,
   "id": "8fc62efd-5193-45d4-af38-22430d569527",
   "metadata": {},
   "outputs": [
    {
     "name": "stdout",
     "output_type": "stream",
     "text": [
      "Circuit for the intransitive state where phase = π, used as ansatz for \"Phillip\" and \"algorithms\":\n"
     ]
    },
    {
     "data": {
      "image/png": "[encoded data removed]",
      "text/plain": [
       "<Figure size 200x200 with 1 Axes>"
      ]
     },
     "metadata": {},
     "output_type": "display_data"
    },
    {
     "name": "stdout",
     "output_type": "stream",
     "text": [
      "Circuit for the transitive state where phase = π, used as ansatz for \"designs\":\n"
     ]
    },
    {
     "data": {
      "image/png": "[encoded data removed]",
      "text/plain": [
       "<Figure size 600x400 with 1 Axes>"
      ]
     },
     "metadata": {},
     "output_type": "display_data"
    },
    {
     "name": "stdout",
     "output_type": "stream",
     "text": [
      "Circuit for the GHZ state, used as ansatz for \"who\":\n"
     ]
    },
    {
     "data": {
      "image/png": "[encoded data removed]",
      "text/plain": [
       "<Figure size 640x480 with 1 Axes>"
      ]
     },
     "metadata": {},
     "output_type": "display_data"
    }
   ],
   "source": [
    "from discopy.quantum import Circuit, sqrt, Ket, H, Rx, CX, SWAP\n",
    "import math, unicodedata\n",
    "\n",
    "# Ansatz for words with type `n`, e.g. 'Phillip', 'algorithms'\n",
    "def intransitive_ansatz(phase):\n",
    "    return Ket(0) >> Rx(phase)\n",
    "\n",
    "# Ansatz for words with type `n.r @ s @ n.l`, e.g. 'designs'\n",
    "def transitive_ansatz(phase):\n",
    "    return sqrt(2) @ Ket(0, 0) >> H @ Rx(phase) >> CX\n",
    "\n",
    "def who_ansatz():\n",
    "    return sqrt(2) @ Ket(0, 0, 0)\\\n",
    "    >> Circuit.id(1) @ H @ Circuit.id(1)\\\n",
    "    >> Circuit.id(1) @ CX\\\n",
    "    >> (SWAP >>  CX) @ Circuit.id(1)\n",
    "\n",
    "print(\"Circuit for the intransitive state where phase = \" + unicodedata.lookup(\"GREEK SMALL LETTER PI\") + \", used as ansatz for \\\"Phillip\\\" and \\\"algorithms\\\":\")\n",
    "intransitive_ansatz(math.pi).draw(aspect='auto', draw_type_labels=False, figsize=(2, 2))\n",
    "\n",
    "print(\"Circuit for the transitive state where phase = \" + unicodedata.lookup(\"GREEK SMALL LETTER PI\") + \", used as ansatz for \\\"designs\\\":\")\n",
    "transitive_ansatz(math.pi).draw(aspect='auto', draw_type_labels=False, figsize=(6, 4))\n",
    "\n",
    "print(\"Circuit for the GHZ state, used as ansatz for \\\"who\\\":\")\n",
    "who_ansatz().draw(aspect='auto', draw_type_labels=False)"
   ]
  },
  {
   "cell_type": "code",
   "execution_count": 110,
   "id": "61e4c0de-83d1-4729-a6c1-984a492f0027",
   "metadata": {},
   "outputs": [
    {
     "ename": "TypeError",
     "evalue": "Expected cat.Arrow, got set instead.",
     "output_type": "error",
     "traceback": [
      "\u001b[1;31m---------------------------------------------------------------------------\u001b[0m",
      "\u001b[1;31mTypeError\u001b[0m                                 Traceback (most recent call last)",
      "Cell \u001b[1;32mIn[110], line 24\u001b[0m\n\u001b[0;32m     19\u001b[0m \u001b[38;5;66;03m#parsing = {\"{} {} {} {} {}.\".format(subj, verb, adj1, adj2, obj): subj @ verb @ adj1 @ adj2 @ obj >> grammar\u001b[39;00m\n\u001b[0;32m     20\u001b[0m \u001b[38;5;66;03m#            for subj in [Phillip] for verb in [designs] for adj1 in [efficient] for adj2 in [quantum] for obj in [algorithms]}\u001b[39;00m\n\u001b[0;32m     22\u001b[0m parsed_sentence \u001b[38;5;241m=\u001b[39m {\u001b[38;5;124m\"\u001b[39m\u001b[38;5;132;01m{Phillip}\u001b[39;00m\u001b[38;5;124m \u001b[39m\u001b[38;5;132;01m{who}\u001b[39;00m\u001b[38;5;124m \u001b[39m\u001b[38;5;132;01m{designs}\u001b[39;00m\u001b[38;5;124m \u001b[39m\u001b[38;5;132;01m{algorithms}\u001b[39;00m\u001b[38;5;124m \u001b[39m\u001b[38;5;132;01m{is_efficient}\u001b[39;00m\u001b[38;5;124m\"\u001b[39m}\n\u001b[1;32m---> 24\u001b[0m circuit \u001b[38;5;241m=\u001b[39m \u001b[43mF\u001b[49m\u001b[43m(\u001b[49m\u001b[43mparams0\u001b[49m\u001b[43m)\u001b[49m\u001b[43m(\u001b[49m\u001b[43mparsed_sentence\u001b[49m\u001b[43m)\u001b[49m\n\u001b[0;32m     26\u001b[0m \u001b[38;5;66;03m#F.draw(aspect='auto', draw_type_labels=False, figsize=(5, 5))\u001b[39;00m\n\u001b[0;32m     27\u001b[0m \n\u001b[0;32m     28\u001b[0m \u001b[38;5;66;03m#F0 = F(params0)\u001b[39;00m\n\u001b[0;32m     29\u001b[0m \n\u001b[0;32m     30\u001b[0m \u001b[38;5;66;03m#def draw_functor(d0, d1):\u001b[39;00m\n\u001b[0;32m     31\u001b[0m \u001b[38;5;66;03m#    return (d0 @ Box('-->', Ty(), Ty()) @ d1).interchange(1, 2, left=True).draw(aspect='auto')\u001b[39;00m\n\u001b[0;32m     33\u001b[0m \u001b[38;5;28mprint\u001b[39m(\u001b[38;5;124m\"\u001b[39m\u001b[38;5;124mCircuit for \u001b[39m\u001b[38;5;124m'\u001b[39m\u001b[38;5;124mPhillip who designs algorithms is efficient.\u001b[39m\u001b[38;5;124m'\u001b[39m\u001b[38;5;124m:\u001b[39m\u001b[38;5;124m\"\u001b[39m)\n",
      "File \u001b[1;32m~\\anaconda3\\envs\\python39\\lib\\site-packages\\discopy\\frobenius.py:348\u001b[0m, in \u001b[0;36mFunctor.__call__\u001b[1;34m(self, other)\u001b[0m\n\u001b[0;32m    346\u001b[0m \u001b[38;5;28;01mif\u001b[39;00m \u001b[38;5;28misinstance\u001b[39m(other, (markov\u001b[38;5;241m.\u001b[39mCopy, markov\u001b[38;5;241m.\u001b[39mMerge)):\n\u001b[0;32m    347\u001b[0m     \u001b[38;5;28;01mreturn\u001b[39;00m markov\u001b[38;5;241m.\u001b[39mFunctor\u001b[38;5;241m.\u001b[39m\u001b[38;5;21m__call__\u001b[39m(\u001b[38;5;28mself\u001b[39m, other)\n\u001b[1;32m--> 348\u001b[0m \u001b[38;5;28;01mreturn\u001b[39;00m \u001b[43mcompact\u001b[49m\u001b[38;5;241;43m.\u001b[39;49m\u001b[43mFunctor\u001b[49m\u001b[38;5;241;43m.\u001b[39;49m\u001b[38;5;21;43m__call__\u001b[39;49m\u001b[43m(\u001b[49m\u001b[38;5;28;43mself\u001b[39;49m\u001b[43m,\u001b[49m\u001b[43m \u001b[49m\u001b[43mother\u001b[49m\u001b[43m)\u001b[49m\n",
      "File \u001b[1;32m~\\anaconda3\\envs\\python39\\lib\\site-packages\\discopy\\compact.py:156\u001b[0m, in \u001b[0;36mFunctor.__call__\u001b[1;34m(self, other)\u001b[0m\n\u001b[0;32m    154\u001b[0m \u001b[38;5;28;01mif\u001b[39;00m \u001b[38;5;28misinstance\u001b[39m(other, Swap):\n\u001b[0;32m    155\u001b[0m     \u001b[38;5;28;01mreturn\u001b[39;00m symmetric\u001b[38;5;241m.\u001b[39mFunctor\u001b[38;5;241m.\u001b[39m\u001b[38;5;21m__call__\u001b[39m(\u001b[38;5;28mself\u001b[39m, other)\n\u001b[1;32m--> 156\u001b[0m \u001b[38;5;28;01mreturn\u001b[39;00m \u001b[43mribbon\u001b[49m\u001b[38;5;241;43m.\u001b[39;49m\u001b[43mFunctor\u001b[49m\u001b[38;5;241;43m.\u001b[39;49m\u001b[38;5;21;43m__call__\u001b[39;49m\u001b[43m(\u001b[49m\u001b[38;5;28;43mself\u001b[39;49m\u001b[43m,\u001b[49m\u001b[43m \u001b[49m\u001b[43mother\u001b[49m\u001b[43m)\u001b[49m\n",
      "File \u001b[1;32m~\\anaconda3\\envs\\python39\\lib\\site-packages\\discopy\\ribbon.py:242\u001b[0m, in \u001b[0;36mFunctor.__call__\u001b[1;34m(self, other)\u001b[0m\n\u001b[0;32m    240\u001b[0m \u001b[38;5;28;01mif\u001b[39;00m \u001b[38;5;28misinstance\u001b[39m(other, Braid):\n\u001b[0;32m    241\u001b[0m     \u001b[38;5;28;01mreturn\u001b[39;00m balanced\u001b[38;5;241m.\u001b[39mFunctor\u001b[38;5;241m.\u001b[39m\u001b[38;5;21m__call__\u001b[39m(\u001b[38;5;28mself\u001b[39m, other)\n\u001b[1;32m--> 242\u001b[0m \u001b[38;5;28;01mreturn\u001b[39;00m \u001b[43mpivotal\u001b[49m\u001b[38;5;241;43m.\u001b[39;49m\u001b[43mFunctor\u001b[49m\u001b[38;5;241;43m.\u001b[39;49m\u001b[38;5;21;43m__call__\u001b[39;49m\u001b[43m(\u001b[49m\u001b[38;5;28;43mself\u001b[39;49m\u001b[43m,\u001b[49m\u001b[43m \u001b[49m\u001b[43mother\u001b[49m\u001b[43m)\u001b[49m\n",
      "File \u001b[1;32m~\\anaconda3\\envs\\python39\\lib\\site-packages\\discopy\\rigid.py:765\u001b[0m, in \u001b[0;36mFunctor.__call__\u001b[1;34m(self, other)\u001b[0m\n\u001b[0;32m    763\u001b[0m         result \u001b[38;5;241m=\u001b[39m result\u001b[38;5;241m.\u001b[39ml \u001b[38;5;28;01mif\u001b[39;00m z \u001b[38;5;241m<\u001b[39m \u001b[38;5;241m0\u001b[39m \u001b[38;5;28;01melse\u001b[39;00m result\u001b[38;5;241m.\u001b[39mr\n\u001b[0;32m    764\u001b[0m     \u001b[38;5;28;01mreturn\u001b[39;00m result\n\u001b[1;32m--> 765\u001b[0m \u001b[38;5;28;01mreturn\u001b[39;00m \u001b[38;5;28;43msuper\u001b[39;49m\u001b[43m(\u001b[49m\u001b[43m)\u001b[49m\u001b[38;5;241;43m.\u001b[39;49m\u001b[38;5;21;43m__call__\u001b[39;49m\u001b[43m(\u001b[49m\u001b[43mother\u001b[49m\u001b[43m)\u001b[49m\n",
      "File \u001b[1;32m~\\anaconda3\\envs\\python39\\lib\\site-packages\\discopy\\closed.py:372\u001b[0m, in \u001b[0;36mFunctor.__call__\u001b[1;34m(self, other)\u001b[0m\n\u001b[0;32m    369\u001b[0m \u001b[38;5;28;01mif\u001b[39;00m \u001b[38;5;28misinstance\u001b[39m(other, Eval):\n\u001b[0;32m    370\u001b[0m     \u001b[38;5;28;01mreturn\u001b[39;00m \u001b[38;5;28mself\u001b[39m\u001b[38;5;241m.\u001b[39mcod\u001b[38;5;241m.\u001b[39mar\u001b[38;5;241m.\u001b[39mev(\n\u001b[0;32m    371\u001b[0m         \u001b[38;5;28mself\u001b[39m(other\u001b[38;5;241m.\u001b[39mbase), \u001b[38;5;28mself\u001b[39m(other\u001b[38;5;241m.\u001b[39mexponent), other\u001b[38;5;241m.\u001b[39mleft)\n\u001b[1;32m--> 372\u001b[0m \u001b[38;5;28;01mreturn\u001b[39;00m \u001b[38;5;28;43msuper\u001b[39;49m\u001b[43m(\u001b[49m\u001b[43m)\u001b[49m\u001b[38;5;241;43m.\u001b[39;49m\u001b[38;5;21;43m__call__\u001b[39;49m\u001b[43m(\u001b[49m\u001b[43mother\u001b[49m\u001b[43m)\u001b[49m\n",
      "File \u001b[1;32m~\\anaconda3\\envs\\python39\\lib\\site-packages\\discopy\\balanced.py:211\u001b[0m, in \u001b[0;36mFunctor.__call__\u001b[1;34m(self, other)\u001b[0m\n\u001b[0;32m    209\u001b[0m \u001b[38;5;28;01mif\u001b[39;00m \u001b[38;5;28misinstance\u001b[39m(other, Trace):\n\u001b[0;32m    210\u001b[0m     \u001b[38;5;28;01mreturn\u001b[39;00m traced\u001b[38;5;241m.\u001b[39mFunctor\u001b[38;5;241m.\u001b[39m\u001b[38;5;21m__call__\u001b[39m(\u001b[38;5;28mself\u001b[39m, other)\n\u001b[1;32m--> 211\u001b[0m \u001b[38;5;28;01mreturn\u001b[39;00m \u001b[43mbraided\u001b[49m\u001b[38;5;241;43m.\u001b[39;49m\u001b[43mFunctor\u001b[49m\u001b[38;5;241;43m.\u001b[39;49m\u001b[38;5;21;43m__call__\u001b[39;49m\u001b[43m(\u001b[49m\u001b[38;5;28;43mself\u001b[39;49m\u001b[43m,\u001b[49m\u001b[43m \u001b[49m\u001b[43mother\u001b[49m\u001b[43m)\u001b[49m\n",
      "File \u001b[1;32m~\\anaconda3\\envs\\python39\\lib\\site-packages\\discopy\\braided.py:259\u001b[0m, in \u001b[0;36mFunctor.__call__\u001b[1;34m(self, other)\u001b[0m\n\u001b[0;32m    257\u001b[0m \u001b[38;5;28;01mif\u001b[39;00m \u001b[38;5;28misinstance\u001b[39m(other, Braid) \u001b[38;5;129;01mand\u001b[39;00m \u001b[38;5;129;01mnot\u001b[39;00m other\u001b[38;5;241m.\u001b[39mis_dagger:\n\u001b[0;32m    258\u001b[0m     \u001b[38;5;28;01mreturn\u001b[39;00m \u001b[38;5;28mself\u001b[39m\u001b[38;5;241m.\u001b[39mcod\u001b[38;5;241m.\u001b[39mar\u001b[38;5;241m.\u001b[39mbraid(\u001b[38;5;28mself\u001b[39m(other\u001b[38;5;241m.\u001b[39mdom[\u001b[38;5;241m0\u001b[39m]), \u001b[38;5;28mself\u001b[39m(other\u001b[38;5;241m.\u001b[39mdom[\u001b[38;5;241m1\u001b[39m]))\n\u001b[1;32m--> 259\u001b[0m \u001b[38;5;28;01mreturn\u001b[39;00m \u001b[38;5;28;43msuper\u001b[39;49m\u001b[43m(\u001b[49m\u001b[43m)\u001b[49m\u001b[38;5;241;43m.\u001b[39;49m\u001b[38;5;21;43m__call__\u001b[39;49m\u001b[43m(\u001b[49m\u001b[43mother\u001b[49m\u001b[43m)\u001b[49m\n",
      "File \u001b[1;32m~\\anaconda3\\envs\\python39\\lib\\site-packages\\discopy\\traced.py:248\u001b[0m, in \u001b[0;36mFunctor.__call__\u001b[1;34m(self, other)\u001b[0m\n\u001b[0;32m    246\u001b[0m     n \u001b[38;5;241m=\u001b[39m \u001b[38;5;28mlen\u001b[39m(\u001b[38;5;28mself\u001b[39m(other\u001b[38;5;241m.\u001b[39marg\u001b[38;5;241m.\u001b[39mdom)) \u001b[38;5;241m-\u001b[39m \u001b[38;5;28mlen\u001b[39m(\u001b[38;5;28mself\u001b[39m(other\u001b[38;5;241m.\u001b[39mdom))\n\u001b[0;32m    247\u001b[0m     \u001b[38;5;28;01mreturn\u001b[39;00m \u001b[38;5;28mself\u001b[39m\u001b[38;5;241m.\u001b[39mcod\u001b[38;5;241m.\u001b[39mar\u001b[38;5;241m.\u001b[39mtrace(\u001b[38;5;28mself\u001b[39m(other\u001b[38;5;241m.\u001b[39marg), n, left\u001b[38;5;241m=\u001b[39mother\u001b[38;5;241m.\u001b[39mleft)\n\u001b[1;32m--> 248\u001b[0m \u001b[38;5;28;01mreturn\u001b[39;00m \u001b[38;5;28;43msuper\u001b[39;49m\u001b[43m(\u001b[49m\u001b[43m)\u001b[49m\u001b[38;5;241;43m.\u001b[39;49m\u001b[38;5;21;43m__call__\u001b[39;49m\u001b[43m(\u001b[49m\u001b[43mother\u001b[49m\u001b[43m)\u001b[49m\n",
      "File \u001b[1;32m~\\anaconda3\\envs\\python39\\lib\\site-packages\\discopy\\monoidal.py:1059\u001b[0m, in \u001b[0;36mFunctor.__call__\u001b[1;34m(self, other)\u001b[0m\n\u001b[0;32m   1057\u001b[0m         result \u001b[38;5;241m=\u001b[39m result \u001b[38;5;241m@\u001b[39m \u001b[38;5;28mself\u001b[39m(box_or_typ)\n\u001b[0;32m   1058\u001b[0m     \u001b[38;5;28;01mreturn\u001b[39;00m result\n\u001b[1;32m-> 1059\u001b[0m \u001b[38;5;28;01mreturn\u001b[39;00m \u001b[38;5;28;43msuper\u001b[39;49m\u001b[43m(\u001b[49m\u001b[43m)\u001b[49m\u001b[38;5;241;43m.\u001b[39;49m\u001b[38;5;21;43m__call__\u001b[39;49m\u001b[43m(\u001b[49m\u001b[43mother\u001b[49m\u001b[43m)\u001b[49m\n",
      "File \u001b[1;32m~\\anaconda3\\envs\\python39\\lib\\site-packages\\discopy\\cat.py:877\u001b[0m, in \u001b[0;36mFunctor.__call__\u001b[1;34m(self, other)\u001b[0m\n\u001b[0;32m    874\u001b[0m     \u001b[38;5;66;03m# This allows some nice syntactic sugar for the ar mapping.\u001b[39;00m\n\u001b[0;32m    875\u001b[0m     \u001b[38;5;28;01mreturn\u001b[39;00m result \u001b[38;5;28;01mif\u001b[39;00m \u001b[38;5;28misinstance\u001b[39m(result, \u001b[38;5;28mself\u001b[39m\u001b[38;5;241m.\u001b[39mcod\u001b[38;5;241m.\u001b[39mar)\\\n\u001b[0;32m    876\u001b[0m         \u001b[38;5;28;01melse\u001b[39;00m \u001b[38;5;28mself\u001b[39m\u001b[38;5;241m.\u001b[39mcod\u001b[38;5;241m.\u001b[39mar(result, \u001b[38;5;28mself\u001b[39m(other\u001b[38;5;241m.\u001b[39mdom), \u001b[38;5;28mself\u001b[39m(other\u001b[38;5;241m.\u001b[39mcod))\n\u001b[1;32m--> 877\u001b[0m \u001b[43massert_isinstance\u001b[49m\u001b[43m(\u001b[49m\u001b[43mother\u001b[49m\u001b[43m,\u001b[49m\u001b[43m \u001b[49m\u001b[43mArrow\u001b[49m\u001b[43m)\u001b[49m\n\u001b[0;32m    878\u001b[0m result \u001b[38;5;241m=\u001b[39m \u001b[38;5;28mself\u001b[39m\u001b[38;5;241m.\u001b[39mcod\u001b[38;5;241m.\u001b[39mar\u001b[38;5;241m.\u001b[39mid(\u001b[38;5;28mself\u001b[39m(other\u001b[38;5;241m.\u001b[39mdom))\n\u001b[0;32m    879\u001b[0m \u001b[38;5;28;01mfor\u001b[39;00m box \u001b[38;5;129;01min\u001b[39;00m other\u001b[38;5;241m.\u001b[39minside:\n",
      "File \u001b[1;32m~\\anaconda3\\envs\\python39\\lib\\site-packages\\discopy\\utils.py:343\u001b[0m, in \u001b[0;36massert_isinstance\u001b[1;34m(object_, cls)\u001b[0m\n\u001b[0;32m    341\u001b[0m cls_name \u001b[38;5;241m=\u001b[39m \u001b[38;5;124m'\u001b[39m\u001b[38;5;124m | \u001b[39m\u001b[38;5;124m'\u001b[39m\u001b[38;5;241m.\u001b[39mjoin(\u001b[38;5;28mmap\u001b[39m(factory_name, classes))\n\u001b[0;32m    342\u001b[0m \u001b[38;5;28;01mif\u001b[39;00m \u001b[38;5;129;01mnot\u001b[39;00m \u001b[38;5;28many\u001b[39m(\u001b[38;5;28misinstance\u001b[39m(object_, \u001b[38;5;28mcls\u001b[39m) \u001b[38;5;28;01mfor\u001b[39;00m \u001b[38;5;28mcls\u001b[39m \u001b[38;5;129;01min\u001b[39;00m classes):\n\u001b[1;32m--> 343\u001b[0m     \u001b[38;5;28;01mraise\u001b[39;00m \u001b[38;5;167;01mTypeError\u001b[39;00m(messages\u001b[38;5;241m.\u001b[39mTYPE_ERROR\u001b[38;5;241m.\u001b[39mformat(\n\u001b[0;32m    344\u001b[0m         cls_name, factory_name(\u001b[38;5;28mtype\u001b[39m(object_))))\n",
      "\u001b[1;31mTypeError\u001b[0m: Expected cat.Arrow, got set instead."
     ]
    }
   ],
   "source": [
    "import numpy as np\n",
    "from discopy.quantum import qubit, Ket, CircuitFunctor\n",
    "from discopy.grammar.pregroup import eager_parse\n",
    "\n",
    "ob = {s: qubit ** 0, n: qubit ** 1}\n",
    "ar = lambda params: {\n",
    "    Phillip: Ket(0),\n",
    "    who: who_ansatz(),\n",
    "    designs: transitive_ansatz(params['designs']),\n",
    "    algorithms: Ket(1),\n",
    "    is_efficient: intransitive_ansatz(params['is_efficient'])}\n",
    "\n",
    "# 'designs': 0.5 and 'is_efficient': 1.0\n",
    "\n",
    "F = lambda params: CircuitFunctor(ob, ar(params))\n",
    "\n",
    "params0 = {'designs': 0.5, 'is_efficient': 1.0}\n",
    "\n",
    "#parsing = {\"{} {} {} {} {}.\".format(subj, verb, adj1, adj2, obj): subj @ verb @ adj1 @ adj2 @ obj >> grammar\n",
    "#            for subj in [Phillip] for verb in [designs] for adj1 in [efficient] for adj2 in [quantum] for obj in [algorithms]}\n",
    "\n",
    "parsed_sentence = {\"{Phillip} {who} {designs} {algorithms} {is_efficient}\"}\n",
    "\n",
    "circuit = F(params0)(parsed_sentence)\n",
    "\n",
    "#F.draw(aspect='auto', draw_type_labels=False, figsize=(5, 5))\n",
    "\n",
    "#F0 = F(params0)\n",
    "\n",
    "#def draw_functor(d0, d1):\n",
    "#    return (d0 @ Box('-->', Ty(), Ty()) @ d1).interchange(1, 2, left=True).draw(aspect='auto')\n",
    "\n",
    "print(\"Circuit for 'Phillip who designs algorithms is efficient.':\")\n",
    "#phrase = eager_parse(Phillip, who, designs, algorithms, is_efficient, target=n)\n",
    "#draw(phrase)\n",
    "\n",
    "#parsing = {\"{} {} {} {} {}.\".format(subj, verb, adj1, adj2, obj): subj @ verb @ adj1 @ adj2 @ obj >> grammar\n",
    "#            for subj in [Phillip] for verb in [designs] for adj1 in [efficient] for adj2 in [quantum] for obj in [algorithms]}\n",
    "#diagram = parsing['Phillip designs efficient quantum algorithms.']\n",
    "#sentences = list(parsing.keys())\n",
    "#print(\"Grammatical sentences:\\n{}\".format('\\n'.join(sentences)))\n",
    "#circuit = F(params0)(parsing['Phillip who designs algorithms is efficient.'])\n",
    "#circuit.draw(figsize=(10, 8), aspect='auto', draw_type_labels=False)"
   ]
  },
  {
   "cell_type": "code",
   "execution_count": null,
   "id": "2632c0f6-52b8-4c9a-8e6e-14a92009476e",
   "metadata": {},
   "outputs": [],
   "source": [
    "from pytket.extensions.qiskit import tk_to_qiskit\n",
    "\n",
    "tk_circ = circuit.to_tk()\n",
    "print(\"{}:\\n{}\\n\".format(tk_circ, '\\n'.join(map(str, tk_circ))))\n",
    "print(\"post selection:\\n{}\\n\".format(tk_circ.post_selection))\n",
    "print(\"scalar:\\n{}\\n\".format(tk_circ.scalar))\n",
    "print(\"qiskit circuit:\")\n",
    "tk_to_qiskit(tk_circ).draw()"
   ]
  },
  {
   "cell_type": "code",
   "execution_count": null,
   "id": "3e623a87-d7c8-4bc6-9609-546c501e2a9d",
   "metadata": {},
   "outputs": [],
   "source": [
    "# Now that we have shown another example of sentence structure symbolization using DisCoCat\n",
    "#\n",
    "# Walter and Jesse are coworkers.\n",
    "# Gus is the boss of Walter.\n",
    "# Gus hates Walter.\n",
    "# Gus likes Jesse.\n",
    "# Gus wants Walter gone.\n",
    "# Walter knows Hector.\n",
    "# Hector hates Gus.\n",
    "# Walter talks to Hector.\n",
    "# Hector blows up Gus.\n",
    "#"
   ]
  },
  {
   "cell_type": "code",
   "execution_count": 71,
   "id": "c544829d-4beb-4fb6-a6e5-ed9910bf1223",
   "metadata": {},
   "outputs": [
    {
     "name": "stdout",
     "output_type": "stream",
     "text": [
      "Tensor[complex]([1.+0.j, 0.+0.j, 0.+0.j, 1.+0.j], dom=Dim(1), cod=Dim(2, 2))\n"
     ]
    }
   ],
   "source": [
    "from discopy.quantum import Ket, H, Rx, CX, sqrt\n",
    "\n",
    "def verb_ansatz(phase):\n",
    "    return Ket(0, 0) >> H @ sqrt(2) @ Rx(phase) >> CX\n",
    "\n",
    "print(verb_ansatz(0).eval())"
   ]
  },
  {
   "cell_type": "code",
   "execution_count": null,
   "id": "380e5a51-968b-4179-b216-a785803cae41",
   "metadata": {},
   "outputs": [],
   "source": [
    ".25 * (verb_ansatz(0) >> verb_ansatz(0).dagger()).measure()"
   ]
  },
  {
   "cell_type": "code",
   "execution_count": null,
   "id": "92b141c3-3543-4105-82c4-5c925271040f",
   "metadata": {},
   "outputs": [],
   "source": [
    "from discopy import CircuitFunctor, qubit\n",
    "\n",
    "ob = {s: 0, n: 1}\n",
    "ar = lambda params: {\n",
    "    Phillip: Ket(0), algorithms: Ket(1),\n",
    "    designs: verb_ansatz(params['designs'])}\n",
    "    \n",
    "\n",
    "F = lambda params: CircuitFunctor(ob, ar(params))\n",
    "\n",
    "params0 = {'loves': 0.5}\n",
    "\n",
    "print(\"Circuit for 'Alice loves Bob':\")\n",
    "F(params0)(parsing['Alice loves Bob.']).draw(\n",
    "    aspect='auto', draw_type_labels=False, figsize=(5, 5))"
   ]
  },
  {
   "cell_type": "code",
   "execution_count": 83,
   "id": "89f4ba6e-377c-486e-b8a6-75e82991250a",
   "metadata": {},
   "outputs": [
    {
     "name": "stdout",
     "output_type": "stream",
     "text": [
      "Tensor[int]([0, 0, 0, 0, 0, 0, 0, 0, 0, 0, 1, 0, 0, 0, 0, 0], dom=Dim(1), cod=Dim(2, 2, 2, 2))\n",
      "Tensor[int]([1, 0, 0, ..., 0, 0, 1], dom=Dim(2, 2, 2, 2, 2, 2, 2, 2), cod=Dim(1))\n"
     ]
    },
    {
     "ename": "AxiomError",
     "evalue": "n @ n.r @ s @ n.l @ algorithms does not compose with Cup(n, n.r) @ s @ n.l @ n @ n.l @ n @ n.l @ n: n @ n.r @ s @ n.l @ n != n @ n.r @ s @ n.l @ n @ n.l @ n @ n.l @ n.",
     "output_type": "error",
     "traceback": [
      "\u001b[1;31m---------------------------------------------------------------------------\u001b[0m",
      "\u001b[1;31mAxiomError\u001b[0m                                Traceback (most recent call last)",
      "Cell \u001b[1;32mIn[83], line 13\u001b[0m\n\u001b[0;32m     10\u001b[0m \u001b[38;5;28mprint\u001b[39m(F(Phillip \u001b[38;5;241m@\u001b[39m designs \u001b[38;5;241m@\u001b[39m algorithms)) \u001b[38;5;66;03m# need to add adjectives now\u001b[39;00m\n\u001b[0;32m     11\u001b[0m \u001b[38;5;28mprint\u001b[39m(F(grammar))\n\u001b[1;32m---> 13\u001b[0m \u001b[38;5;28;01massert\u001b[39;00m F(\u001b[43mPhillip\u001b[49m\u001b[43m \u001b[49m\u001b[38;5;241;43m@\u001b[39;49m\u001b[43m \u001b[49m\u001b[43mdesigns\u001b[49m\u001b[43m \u001b[49m\u001b[38;5;241;43m@\u001b[39;49m\u001b[43m \u001b[49m\u001b[43malgorithms\u001b[49m\u001b[43m \u001b[49m\u001b[38;5;241;43m>>\u001b[39;49m\u001b[43m \u001b[49m\u001b[43mgrammar\u001b[49m)\u001b[38;5;241m.\u001b[39marray \u001b[38;5;241m==\u001b[39m \u001b[38;5;241m1\u001b[39m\n",
      "File \u001b[1;32m~\\anaconda3\\envs\\python39\\lib\\site-packages\\discopy\\utils.py:555\u001b[0m, in \u001b[0;36mComposable.<lambda>\u001b[1;34m(self, other)\u001b[0m\n\u001b[0;32m    546\u001b[0m \u001b[38;5;250m    \u001b[39m\u001b[38;5;124;03m\"\"\"\u001b[39;00m\n\u001b[0;32m    547\u001b[0m \u001b[38;5;124;03m    Whether two composable objects are parallel, i.e. they have the same\u001b[39;00m\n\u001b[0;32m    548\u001b[0m \u001b[38;5;124;03m    domain and codomain.\u001b[39;00m\n\u001b[1;32m   (...)\u001b[0m\n\u001b[0;32m    551\u001b[0m \u001b[38;5;124;03m        other : The other composable object.\u001b[39;00m\n\u001b[0;32m    552\u001b[0m \u001b[38;5;124;03m    \"\"\"\u001b[39;00m\n\u001b[0;32m    553\u001b[0m     \u001b[38;5;28;01mreturn\u001b[39;00m (\u001b[38;5;28mself\u001b[39m\u001b[38;5;241m.\u001b[39mdom, \u001b[38;5;28mself\u001b[39m\u001b[38;5;241m.\u001b[39mcod) \u001b[38;5;241m==\u001b[39m (other\u001b[38;5;241m.\u001b[39mdom, other\u001b[38;5;241m.\u001b[39mcod)\n\u001b[1;32m--> 555\u001b[0m \u001b[38;5;21m__rshift__\u001b[39m \u001b[38;5;241m=\u001b[39m __llshift__ \u001b[38;5;241m=\u001b[39m \u001b[38;5;28;01mlambda\u001b[39;00m \u001b[38;5;28mself\u001b[39m, other: \u001b[38;5;28;43mself\u001b[39;49m\u001b[38;5;241;43m.\u001b[39;49m\u001b[43mthen\u001b[49m\u001b[43m(\u001b[49m\u001b[43mother\u001b[49m\u001b[43m)\u001b[49m\n\u001b[0;32m    556\u001b[0m \u001b[38;5;21m__lshift__\u001b[39m \u001b[38;5;241m=\u001b[39m __lrshift__ \u001b[38;5;241m=\u001b[39m \u001b[38;5;28;01mlambda\u001b[39;00m \u001b[38;5;28mself\u001b[39m, other: other\u001b[38;5;241m.\u001b[39mthen(\u001b[38;5;28mself\u001b[39m)\n",
      "File \u001b[1;32m~\\anaconda3\\envs\\python39\\lib\\site-packages\\discopy\\cat.py:327\u001b[0m, in \u001b[0;36mArrow.then\u001b[1;34m(self, *others)\u001b[0m\n\u001b[0;32m    325\u001b[0m     assert_isinstance(\u001b[38;5;28mself\u001b[39m, other\u001b[38;5;241m.\u001b[39mfactory)\n\u001b[0;32m    326\u001b[0m     inside, cod \u001b[38;5;241m=\u001b[39m inside \u001b[38;5;241m+\u001b[39m other\u001b[38;5;241m.\u001b[39minside, other\u001b[38;5;241m.\u001b[39mcod\n\u001b[1;32m--> 327\u001b[0m \u001b[38;5;28;01mreturn\u001b[39;00m \u001b[38;5;28;43mself\u001b[39;49m\u001b[38;5;241;43m.\u001b[39;49m\u001b[43mfactory\u001b[49m\u001b[43m(\u001b[49m\u001b[43minside\u001b[49m\u001b[43m,\u001b[49m\u001b[43m \u001b[49m\u001b[43mdom\u001b[49m\u001b[43m,\u001b[49m\u001b[43m \u001b[49m\u001b[43mcod\u001b[49m\u001b[43m)\u001b[49m\n",
      "File \u001b[1;32m~\\anaconda3\\envs\\python39\\lib\\site-packages\\discopy\\monoidal.py:503\u001b[0m, in \u001b[0;36mDiagram.__init__\u001b[1;34m(self, inside, dom, cod, _scan)\u001b[0m\n\u001b[0;32m    501\u001b[0m \u001b[38;5;28;01mfor\u001b[39;00m layer \u001b[38;5;129;01min\u001b[39;00m inside:\n\u001b[0;32m    502\u001b[0m     assert_isinstance(layer, Layer)\n\u001b[1;32m--> 503\u001b[0m \u001b[38;5;28;43msuper\u001b[39;49m\u001b[43m(\u001b[49m\u001b[43m)\u001b[49m\u001b[38;5;241;43m.\u001b[39;49m\u001b[38;5;21;43m__init__\u001b[39;49m\u001b[43m(\u001b[49m\u001b[43minside\u001b[49m\u001b[43m,\u001b[49m\u001b[43m \u001b[49m\u001b[43mdom\u001b[49m\u001b[43m,\u001b[49m\u001b[43m \u001b[49m\u001b[43mcod\u001b[49m\u001b[43m,\u001b[49m\u001b[43m \u001b[49m\u001b[43m_scan\u001b[49m\u001b[38;5;241;43m=\u001b[39;49m\u001b[43m_scan\u001b[49m\u001b[43m)\u001b[49m\n",
      "File \u001b[1;32m~\\anaconda3\\envs\\python39\\lib\\site-packages\\discopy\\cat.py:235\u001b[0m, in \u001b[0;36mArrow.__init__\u001b[1;34m(self, inside, dom, cod, _scan)\u001b[0m\n\u001b[0;32m    233\u001b[0m     assert_isinstance(box, Box)\n\u001b[0;32m    234\u001b[0m \u001b[38;5;28;01mfor\u001b[39;00m f, g \u001b[38;5;129;01min\u001b[39;00m \u001b[38;5;28mzip\u001b[39m((Id(dom), ) \u001b[38;5;241m+\u001b[39m inside, inside \u001b[38;5;241m+\u001b[39m (Id(cod), )):\n\u001b[1;32m--> 235\u001b[0m     \u001b[43massert_iscomposable\u001b[49m\u001b[43m(\u001b[49m\u001b[43mf\u001b[49m\u001b[43m,\u001b[49m\u001b[43m \u001b[49m\u001b[43mg\u001b[49m\u001b[43m)\u001b[49m\n",
      "File \u001b[1;32m~\\anaconda3\\envs\\python39\\lib\\site-packages\\discopy\\utils.py:657\u001b[0m, in \u001b[0;36massert_iscomposable\u001b[1;34m(left, right)\u001b[0m\n\u001b[0;32m    648\u001b[0m \u001b[38;5;250m\u001b[39m\u001b[38;5;124;03m\"\"\"\u001b[39;00m\n\u001b[0;32m    649\u001b[0m \u001b[38;5;124;03mRaise :class:`AxiomError` if two objects are not composable,\u001b[39;00m\n\u001b[0;32m    650\u001b[0m \u001b[38;5;124;03mi.e. the domain of ``other`` is not the codomain of ``self``.\u001b[39;00m\n\u001b[1;32m   (...)\u001b[0m\n\u001b[0;32m    654\u001b[0m \u001b[38;5;124;03m    right : Another composable object.\u001b[39;00m\n\u001b[0;32m    655\u001b[0m \u001b[38;5;124;03m\"\"\"\u001b[39;00m\n\u001b[0;32m    656\u001b[0m \u001b[38;5;28;01mif\u001b[39;00m \u001b[38;5;129;01mnot\u001b[39;00m left\u001b[38;5;241m.\u001b[39mis_composable(right):\n\u001b[1;32m--> 657\u001b[0m     \u001b[38;5;28;01mraise\u001b[39;00m AxiomError(messages\u001b[38;5;241m.\u001b[39mNOT_COMPOSABLE\u001b[38;5;241m.\u001b[39mformat(\n\u001b[0;32m    658\u001b[0m         left, right, left\u001b[38;5;241m.\u001b[39mcod, right\u001b[38;5;241m.\u001b[39mdom))\n",
      "\u001b[1;31mAxiomError\u001b[0m: n @ n.r @ s @ n.l @ algorithms does not compose with Cup(n, n.r) @ s @ n.l @ n @ n.l @ n @ n.l @ n: n @ n.r @ s @ n.l @ n != n @ n.r @ s @ n.l @ n @ n.l @ n @ n.l @ n."
     ]
    }
   ],
   "source": [
    "from discopy.cat import Category\n",
    "from discopy.tensor import Tensor\n",
    "from discopy import tensor\n",
    "\n",
    "F = tensor.Functor(\n",
    "    ob={n: 2, s: 1},\n",
    "    ar={Phillip: [0, 1], designs: [0, 1, 0, 0], algorithms: [1, 0]},\n",
    "    dom=Category(Ty, Diagram))\n",
    "\n",
    "print(F(Phillip @ designs @ algorithms)) # need to add adjectives now\n",
    "print(F(grammar))\n",
    "\n",
    "assert F(Phillip @ designs @ algorithms >> grammar).array == 1"
   ]
  },
  {
   "cell_type": "code",
   "execution_count": 3,
   "id": "8ca80660-c182-472a-afed-f7e42e840527",
   "metadata": {
    "id": "bd9529db1c0b"
   },
   "outputs": [],
   "source": [
    "try:\n",
    "    import cirq\n",
    "except ImportError:\n",
    "    print(\"installing cirq...\")\n",
    "    !pip install --quiet cirq\n",
    "    import cirq\n",
    "\n",
    "    print(\"installed cirq.\")"
   ]
  },
  {
   "cell_type": "code",
   "execution_count": 6,
   "id": "84b891f7-7f30-423f-93b0-69822117caab",
   "metadata": {
    "id": "n4GQUN8MS7vt"
   },
   "outputs": [
    {
     "name": "stdout",
     "output_type": "stream",
     "text": [
      "Circuit:\n",
      "(0, 0): ───X^0.5───M('m')───\n",
      "Results:\n",
      "m=01001110100010010000\n"
     ]
    }
   ],
   "source": [
    "# Pick a qubit.\n",
    "qubit = cirq.GridQubit(0, 0)\n",
    "\n",
    "# Create a circuit that applies a square root of NOT gate, then measures the qubit.\n",
    "circuit = cirq.Circuit(cirq.X(qubit) ** 0.5, cirq.measure(qubit, key='m'))\n",
    "print(\"Circuit:\")\n",
    "print(circuit)\n",
    "\n",
    "# Simulate the circuit several times.\n",
    "simulator = cirq.Simulator()\n",
    "result = simulator.run(circuit, repetitions=20)\n",
    "print(\"Results:\")\n",
    "print(result)"
   ]
  }
 ],
 "metadata": {
  "kernelspec": {
   "display_name": "Python 3 (ipykernel)",
   "language": "python",
   "name": "python3"
  },
  "language_info": {
   "codemirror_mode": {
    "name": "ipython",
    "version": 3
   },
   "file_extension": ".py",
   "mimetype": "text/x-python",
   "name": "python",
   "nbconvert_exporter": "python",
   "pygments_lexer": "ipython3",
   "version": "3.9.18"
  }
 },
 "nbformat": 4,
 "nbformat_minor": 5
}
