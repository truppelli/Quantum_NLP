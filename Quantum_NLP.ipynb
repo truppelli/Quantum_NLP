{
 "cells": [
  {
   "cell_type": "markdown",
   "id": "f598b108-a6f8-43c0-8236-c75dc001bc8a",
   "metadata": {
    "id": "gXXhctqjgXO7"
   },
   "source": [
    "##### Copyright 2023 Phillip Truppelli"
   ]
  },
  {
   "cell_type": "code",
   "execution_count": 1,
   "id": "e2c37c63-0476-4579-835e-a07002856801",
   "metadata": {
    "cellView": "form",
    "id": "z2RJVa8qgXou"
   },
   "outputs": [],
   "source": [
    "# The purpose of this script is to showcase Grover's search algorithm applied to quantum natural language processing.\n",
    "# This will provide a baseline framework for query answering on a quantum computer.\n",
    "# You may obtain the source code and documentation here:\n",
    "# \n",
    "# https://github.com/truppelli\n",
    "# \n",
    "# This code is covered under the Apache License, Version 2.0 (the \"License\");\n",
    "# you may not use this file except in compliance with the License.\n",
    "# You may obtain a copy of the License at\n",
    "#\n",
    "# https://www.apache.org/licenses/LICENSE-2.0\n",
    "#\n",
    "# Unless required by applicable law or agreed to in writing, software\n",
    "# distributed under the License is distributed on an \"AS IS\" BASIS,\n",
    "# WITHOUT WARRANTIES OR CONDITIONS OF ANY KIND, either express or implied.\n",
    "# See the License for the specific language governing permissions and\n",
    "# limitations under the License."
   ]
  },
  {
   "cell_type": "code",
   "execution_count": 76,
   "id": "a497a348",
   "metadata": {},
   "outputs": [
    {
     "name": "stdout",
     "output_type": "stream",
     "text": [
      "Vocabulary:\n",
      "Word('Phillip', grammar.pregroup.Ty(rigid.Ob('n')))\n",
      "Word('designs', grammar.pregroup.Ty(rigid.Ob('n', z=1), rigid.Ob('s'), rigid.Ob('n', z=-1)))\n",
      "Word('efficient', grammar.pregroup.Ty(rigid.Ob('n'), rigid.Ob('n', z=-1)))\n",
      "Word('quantum', grammar.pregroup.Ty(rigid.Ob('n'), rigid.Ob('n', z=-1)))\n",
      "Word('algorithms', grammar.pregroup.Ty(rigid.Ob('n')))\n",
      "\n",
      "\n",
      "Diagram for 'Phillip designs efficient quantum algorithms':\n"
     ]
    },
    {
     "data": {
      "image/png": "[encoded data removed]",
      "text/plain": [
       "<Figure size 1400x400 with 1 Axes>"
      ]
     },
     "metadata": {},
     "output_type": "display_data"
    }
   ],
   "source": [
    "# DisCoCat (Categorical Compositional Distributional) is a mathematical foundation that can be used to represent grammatical structure.\n",
    "# The following example showcases a simple sentence\n",
    "from discopy.grammar.pregroup import Ty, Id, Word, Cup, Diagram\n",
    "\n",
    "n, s = Ty('n'), Ty('s')\n",
    "\n",
    "Phillip = Word(\"Phillip\", n)\n",
    "designs = Word(\"designs\", n.r @ s @ n.l)\n",
    "efficient = Word(\"efficient\", n @ n.l)\n",
    "quantum = Word(\"quantum\", n @ n.l)\n",
    "algorithms = Word(\"algorithms\", n)\n",
    "\n",
    "print(\"Vocabulary:\\n{}\".format('\\n'.join(map(repr, [Phillip, designs, efficient, quantum, algorithms]))))\n",
    "\n",
    "grammar = Cup(n, n.r) @ Id(s) @ Cup(n.l, n) @ Cup(n.l, n) @ Cup(n.l, n)\n",
    "\n",
    "sentence = Phillip @ designs @ efficient @ quantum @ algorithms >> grammar\n",
    "print(\"\\n\")\n",
    "print(\"Diagram for 'Phillip designs efficient quantum algorithms':\")\n",
    "sentence.draw(figsize=(14, 4))"
   ]
  },
  {
   "cell_type": "code",
   "execution_count": 78,
   "id": "799e8332-5f38-4b3f-ace8-908b27a6e4b9",
   "metadata": {},
   "outputs": [
    {
     "name": "stdout",
     "output_type": "stream",
     "text": [
      "Grammatical sentences:\n",
      "Phillip designs efficient quantum algorithms.\n"
     ]
    }
   ],
   "source": [
    "# Now we want to test out the parsing capabilities of DisCoPy\n",
    "parsing = {\"{} {} {} {} {}.\".format(subj, verb, adj1, adj2, obj): subj @ verb @ adj1 @ adj2 @ obj >> grammar\n",
    "            for subj in [Phillip] for verb in [designs] for adj1 in [efficient] for adj2 in [quantum] for obj in [algorithms]}\n",
    "diagram = parsing['Phillip designs efficient quantum algorithms.']\n",
    "sentences = list(parsing.keys())\n",
    "print(\"Grammatical sentences:\\n{}\".format('\\n'.join(sentences)))"
   ]
  },
  {
   "cell_type": "code",
   "execution_count": 71,
   "id": "c544829d-4beb-4fb6-a6e5-ed9910bf1223",
   "metadata": {},
   "outputs": [
    {
     "name": "stdout",
     "output_type": "stream",
     "text": [
      "Tensor[complex]([1.+0.j, 0.+0.j, 0.+0.j, 1.+0.j], dom=Dim(1), cod=Dim(2, 2))\n"
     ]
    }
   ],
   "source": [
    "from discopy.quantum import Ket, H, Rx, CX, sqrt\n",
    "\n",
    "def verb_ansatz(phase):\n",
    "    return Ket(0, 0) >> H @ sqrt(2) @ Rx(phase) >> CX\n",
    "\n",
    "print(verb_ansatz(0).eval())"
   ]
  },
  {
   "cell_type": "code",
   "execution_count": null,
   "id": "380e5a51-968b-4179-b216-a785803cae41",
   "metadata": {},
   "outputs": [],
   "source": [
    ".25 * (verb_ansatz(0) >> verb_ansatz(0).dagger()).measure()"
   ]
  },
  {
   "cell_type": "code",
   "execution_count": null,
   "id": "92b141c3-3543-4105-82c4-5c925271040f",
   "metadata": {},
   "outputs": [],
   "source": [
    "from discopy import CircuitFunctor, qubit\n",
    "\n",
    "ob = {s: 0, n: 1}\n",
    "ar = lambda params: {\n",
    "    Phillip: Ket(0), algorithms: Ket(1),\n",
    "    designs: verb_ansatz(params['designs'])}\n",
    "    \n",
    "\n",
    "F = lambda params: CircuitFunctor(ob, ar(params))\n",
    "\n",
    "params0 = {'loves': 0.5}\n",
    "\n",
    "print(\"Circuit for 'Alice loves Bob':\")\n",
    "F(params0)(parsing['Alice loves Bob.']).draw(\n",
    "    aspect='auto', draw_type_labels=False, figsize=(5, 5))"
   ]
  },
  {
   "cell_type": "code",
   "execution_count": 83,
   "id": "89f4ba6e-377c-486e-b8a6-75e82991250a",
   "metadata": {},
   "outputs": [
    {
     "name": "stdout",
     "output_type": "stream",
     "text": [
      "Tensor[int]([0, 0, 0, 0, 0, 0, 0, 0, 0, 0, 1, 0, 0, 0, 0, 0], dom=Dim(1), cod=Dim(2, 2, 2, 2))\n",
      "Tensor[int]([1, 0, 0, ..., 0, 0, 1], dom=Dim(2, 2, 2, 2, 2, 2, 2, 2), cod=Dim(1))\n"
     ]
    },
    {
     "ename": "AxiomError",
     "evalue": "n @ n.r @ s @ n.l @ algorithms does not compose with Cup(n, n.r) @ s @ n.l @ n @ n.l @ n @ n.l @ n: n @ n.r @ s @ n.l @ n != n @ n.r @ s @ n.l @ n @ n.l @ n @ n.l @ n.",
     "output_type": "error",
     "traceback": [
      "\u001b[1;31m---------------------------------------------------------------------------\u001b[0m",
      "\u001b[1;31mAxiomError\u001b[0m                                Traceback (most recent call last)",
      "Cell \u001b[1;32mIn[83], line 13\u001b[0m\n\u001b[0;32m     10\u001b[0m \u001b[38;5;28mprint\u001b[39m(F(Phillip \u001b[38;5;241m@\u001b[39m designs \u001b[38;5;241m@\u001b[39m algorithms)) \u001b[38;5;66;03m# need to add adjectives now\u001b[39;00m\n\u001b[0;32m     11\u001b[0m \u001b[38;5;28mprint\u001b[39m(F(grammar))\n\u001b[1;32m---> 13\u001b[0m \u001b[38;5;28;01massert\u001b[39;00m F(\u001b[43mPhillip\u001b[49m\u001b[43m \u001b[49m\u001b[38;5;241;43m@\u001b[39;49m\u001b[43m \u001b[49m\u001b[43mdesigns\u001b[49m\u001b[43m \u001b[49m\u001b[38;5;241;43m@\u001b[39;49m\u001b[43m \u001b[49m\u001b[43malgorithms\u001b[49m\u001b[43m \u001b[49m\u001b[38;5;241;43m>>\u001b[39;49m\u001b[43m \u001b[49m\u001b[43mgrammar\u001b[49m)\u001b[38;5;241m.\u001b[39marray \u001b[38;5;241m==\u001b[39m \u001b[38;5;241m1\u001b[39m\n",
      "File \u001b[1;32m~\\anaconda3\\envs\\python39\\lib\\site-packages\\discopy\\utils.py:555\u001b[0m, in \u001b[0;36mComposable.<lambda>\u001b[1;34m(self, other)\u001b[0m\n\u001b[0;32m    546\u001b[0m \u001b[38;5;250m    \u001b[39m\u001b[38;5;124;03m\"\"\"\u001b[39;00m\n\u001b[0;32m    547\u001b[0m \u001b[38;5;124;03m    Whether two composable objects are parallel, i.e. they have the same\u001b[39;00m\n\u001b[0;32m    548\u001b[0m \u001b[38;5;124;03m    domain and codomain.\u001b[39;00m\n\u001b[1;32m   (...)\u001b[0m\n\u001b[0;32m    551\u001b[0m \u001b[38;5;124;03m        other : The other composable object.\u001b[39;00m\n\u001b[0;32m    552\u001b[0m \u001b[38;5;124;03m    \"\"\"\u001b[39;00m\n\u001b[0;32m    553\u001b[0m     \u001b[38;5;28;01mreturn\u001b[39;00m (\u001b[38;5;28mself\u001b[39m\u001b[38;5;241m.\u001b[39mdom, \u001b[38;5;28mself\u001b[39m\u001b[38;5;241m.\u001b[39mcod) \u001b[38;5;241m==\u001b[39m (other\u001b[38;5;241m.\u001b[39mdom, other\u001b[38;5;241m.\u001b[39mcod)\n\u001b[1;32m--> 555\u001b[0m \u001b[38;5;21m__rshift__\u001b[39m \u001b[38;5;241m=\u001b[39m __llshift__ \u001b[38;5;241m=\u001b[39m \u001b[38;5;28;01mlambda\u001b[39;00m \u001b[38;5;28mself\u001b[39m, other: \u001b[38;5;28;43mself\u001b[39;49m\u001b[38;5;241;43m.\u001b[39;49m\u001b[43mthen\u001b[49m\u001b[43m(\u001b[49m\u001b[43mother\u001b[49m\u001b[43m)\u001b[49m\n\u001b[0;32m    556\u001b[0m \u001b[38;5;21m__lshift__\u001b[39m \u001b[38;5;241m=\u001b[39m __lrshift__ \u001b[38;5;241m=\u001b[39m \u001b[38;5;28;01mlambda\u001b[39;00m \u001b[38;5;28mself\u001b[39m, other: other\u001b[38;5;241m.\u001b[39mthen(\u001b[38;5;28mself\u001b[39m)\n",
      "File \u001b[1;32m~\\anaconda3\\envs\\python39\\lib\\site-packages\\discopy\\cat.py:327\u001b[0m, in \u001b[0;36mArrow.then\u001b[1;34m(self, *others)\u001b[0m\n\u001b[0;32m    325\u001b[0m     assert_isinstance(\u001b[38;5;28mself\u001b[39m, other\u001b[38;5;241m.\u001b[39mfactory)\n\u001b[0;32m    326\u001b[0m     inside, cod \u001b[38;5;241m=\u001b[39m inside \u001b[38;5;241m+\u001b[39m other\u001b[38;5;241m.\u001b[39minside, other\u001b[38;5;241m.\u001b[39mcod\n\u001b[1;32m--> 327\u001b[0m \u001b[38;5;28;01mreturn\u001b[39;00m \u001b[38;5;28;43mself\u001b[39;49m\u001b[38;5;241;43m.\u001b[39;49m\u001b[43mfactory\u001b[49m\u001b[43m(\u001b[49m\u001b[43minside\u001b[49m\u001b[43m,\u001b[49m\u001b[43m \u001b[49m\u001b[43mdom\u001b[49m\u001b[43m,\u001b[49m\u001b[43m \u001b[49m\u001b[43mcod\u001b[49m\u001b[43m)\u001b[49m\n",
      "File \u001b[1;32m~\\anaconda3\\envs\\python39\\lib\\site-packages\\discopy\\monoidal.py:503\u001b[0m, in \u001b[0;36mDiagram.__init__\u001b[1;34m(self, inside, dom, cod, _scan)\u001b[0m\n\u001b[0;32m    501\u001b[0m \u001b[38;5;28;01mfor\u001b[39;00m layer \u001b[38;5;129;01min\u001b[39;00m inside:\n\u001b[0;32m    502\u001b[0m     assert_isinstance(layer, Layer)\n\u001b[1;32m--> 503\u001b[0m \u001b[38;5;28;43msuper\u001b[39;49m\u001b[43m(\u001b[49m\u001b[43m)\u001b[49m\u001b[38;5;241;43m.\u001b[39;49m\u001b[38;5;21;43m__init__\u001b[39;49m\u001b[43m(\u001b[49m\u001b[43minside\u001b[49m\u001b[43m,\u001b[49m\u001b[43m \u001b[49m\u001b[43mdom\u001b[49m\u001b[43m,\u001b[49m\u001b[43m \u001b[49m\u001b[43mcod\u001b[49m\u001b[43m,\u001b[49m\u001b[43m \u001b[49m\u001b[43m_scan\u001b[49m\u001b[38;5;241;43m=\u001b[39;49m\u001b[43m_scan\u001b[49m\u001b[43m)\u001b[49m\n",
      "File \u001b[1;32m~\\anaconda3\\envs\\python39\\lib\\site-packages\\discopy\\cat.py:235\u001b[0m, in \u001b[0;36mArrow.__init__\u001b[1;34m(self, inside, dom, cod, _scan)\u001b[0m\n\u001b[0;32m    233\u001b[0m     assert_isinstance(box, Box)\n\u001b[0;32m    234\u001b[0m \u001b[38;5;28;01mfor\u001b[39;00m f, g \u001b[38;5;129;01min\u001b[39;00m \u001b[38;5;28mzip\u001b[39m((Id(dom), ) \u001b[38;5;241m+\u001b[39m inside, inside \u001b[38;5;241m+\u001b[39m (Id(cod), )):\n\u001b[1;32m--> 235\u001b[0m     \u001b[43massert_iscomposable\u001b[49m\u001b[43m(\u001b[49m\u001b[43mf\u001b[49m\u001b[43m,\u001b[49m\u001b[43m \u001b[49m\u001b[43mg\u001b[49m\u001b[43m)\u001b[49m\n",
      "File \u001b[1;32m~\\anaconda3\\envs\\python39\\lib\\site-packages\\discopy\\utils.py:657\u001b[0m, in \u001b[0;36massert_iscomposable\u001b[1;34m(left, right)\u001b[0m\n\u001b[0;32m    648\u001b[0m \u001b[38;5;250m\u001b[39m\u001b[38;5;124;03m\"\"\"\u001b[39;00m\n\u001b[0;32m    649\u001b[0m \u001b[38;5;124;03mRaise :class:`AxiomError` if two objects are not composable,\u001b[39;00m\n\u001b[0;32m    650\u001b[0m \u001b[38;5;124;03mi.e. the domain of ``other`` is not the codomain of ``self``.\u001b[39;00m\n\u001b[1;32m   (...)\u001b[0m\n\u001b[0;32m    654\u001b[0m \u001b[38;5;124;03m    right : Another composable object.\u001b[39;00m\n\u001b[0;32m    655\u001b[0m \u001b[38;5;124;03m\"\"\"\u001b[39;00m\n\u001b[0;32m    656\u001b[0m \u001b[38;5;28;01mif\u001b[39;00m \u001b[38;5;129;01mnot\u001b[39;00m left\u001b[38;5;241m.\u001b[39mis_composable(right):\n\u001b[1;32m--> 657\u001b[0m     \u001b[38;5;28;01mraise\u001b[39;00m AxiomError(messages\u001b[38;5;241m.\u001b[39mNOT_COMPOSABLE\u001b[38;5;241m.\u001b[39mformat(\n\u001b[0;32m    658\u001b[0m         left, right, left\u001b[38;5;241m.\u001b[39mcod, right\u001b[38;5;241m.\u001b[39mdom))\n",
      "\u001b[1;31mAxiomError\u001b[0m: n @ n.r @ s @ n.l @ algorithms does not compose with Cup(n, n.r) @ s @ n.l @ n @ n.l @ n @ n.l @ n: n @ n.r @ s @ n.l @ n != n @ n.r @ s @ n.l @ n @ n.l @ n @ n.l @ n."
     ]
    }
   ],
   "source": [
    "from discopy.cat import Category\n",
    "from discopy.tensor import Tensor\n",
    "from discopy import tensor\n",
    "\n",
    "F = tensor.Functor(\n",
    "    ob={n: 2, s: 1},\n",
    "    ar={Phillip: [0, 1], designs: [0, 1, 0, 0], algorithms: [1, 0]},\n",
    "    dom=Category(Ty, Diagram))\n",
    "\n",
    "print(F(Phillip @ designs @ algorithms)) # need to add adjectives now\n",
    "print(F(grammar))\n",
    "\n",
    "assert F(Phillip @ designs @ algorithms >> grammar).array == 1"
   ]
  },
  {
   "cell_type": "code",
   "execution_count": 3,
   "id": "8ca80660-c182-472a-afed-f7e42e840527",
   "metadata": {
    "id": "bd9529db1c0b"
   },
   "outputs": [],
   "source": [
    "try:\n",
    "    import cirq\n",
    "except ImportError:\n",
    "    print(\"installing cirq...\")\n",
    "    !pip install --quiet cirq\n",
    "    import cirq\n",
    "\n",
    "    print(\"installed cirq.\")"
   ]
  },
  {
   "cell_type": "code",
   "execution_count": 6,
   "id": "84b891f7-7f30-423f-93b0-69822117caab",
   "metadata": {
    "id": "n4GQUN8MS7vt"
   },
   "outputs": [
    {
     "name": "stdout",
     "output_type": "stream",
     "text": [
      "Circuit:\n",
      "(0, 0): ───X^0.5───M('m')───\n",
      "Results:\n",
      "m=01001110100010010000\n"
     ]
    }
   ],
   "source": [
    "# Pick a qubit.\n",
    "qubit = cirq.GridQubit(0, 0)\n",
    "\n",
    "# Create a circuit that applies a square root of NOT gate, then measures the qubit.\n",
    "circuit = cirq.Circuit(cirq.X(qubit) ** 0.5, cirq.measure(qubit, key='m'))\n",
    "print(\"Circuit:\")\n",
    "print(circuit)\n",
    "\n",
    "# Simulate the circuit several times.\n",
    "simulator = cirq.Simulator()\n",
    "result = simulator.run(circuit, repetitions=20)\n",
    "print(\"Results:\")\n",
    "print(result)"
   ]
  }
 ],
 "metadata": {
  "kernelspec": {
   "display_name": "Python 3 (ipykernel)",
   "language": "python",
   "name": "python3"
  },
  "language_info": {
   "codemirror_mode": {
    "name": "ipython",
    "version": 3
   },
   "file_extension": ".py",
   "mimetype": "text/x-python",
   "name": "python",
   "nbconvert_exporter": "python",
   "pygments_lexer": "ipython3",
   "version": "3.9.18"
  }
 },
 "nbformat": 4,
 "nbformat_minor": 5
}
